{
 "cells": [
  {
   "cell_type": "code",
   "execution_count": 1,
   "id": "8ff49b44",
   "metadata": {},
   "outputs": [
    {
     "name": "stderr",
     "output_type": "stream",
     "text": [
      "/Tmp/lvpoellhuber/bmir-env/lib/python3.12/site-packages/tqdm/auto.py:21: TqdmWarning: IProgress not found. Please update jupyter and ipywidgets. See https://ipywidgets.readthedocs.io/en/stable/user_install.html\n",
      "  from .autonotebook import tqdm as notebook_tqdm\n",
      "[nltk_data] Downloading package punkt to /u/poellhul/nltk_data...\n",
      "[nltk_data]   Package punkt is already up-to-date!\n"
     ]
    }
   ],
   "source": [
    "import os\n",
    "import csv\n",
    "import json\n",
    "from tqdm import tqdm\n",
    "import gc\n",
    "import numpy as np\n",
    "import torch\n",
    "\n",
    "import pandas as pd\n",
    "import matplotlib.pyplot as plt\n",
    "import seaborn as sns\n",
    "\n",
    "from transformers import AutoModel\n",
    "from beir.datasets.data_loader import GenericDataLoader\n",
    "\n",
    "from modeling_longtriever import Longtriever\n",
    "from modeling_retriever import LongtrieverRetriever\n",
    "\n",
    "import dotenv\n",
    "dotenv.load_dotenv()\n",
    "\n",
    "os.environ[\"JAVA_HOME\"] = \"/usr/lib64/openjdk-21\"\n",
    "os.environ[\"PATH\"] = os.environ[\"JAVA_HOME\"] + \"/bin:\" + os.environ[\"PATH\"]"
   ]
  },
  {
   "cell_type": "markdown",
   "id": "8900f57f",
   "metadata": {},
   "source": [
    "# Architecture Inspection\n",
    "\n",
    "## Longtriever VS Ablation VS Bert"
   ]
  },
  {
   "cell_type": "code",
   "execution_count": 4,
   "id": "7e995072",
   "metadata": {},
   "outputs": [
    {
     "name": "stderr",
     "output_type": "stream",
     "text": [
      "You are using a model of type longtriever to instantiate a model of type bert. This is not supported for all configurations of models and can yield errors.\n"
     ]
    },
    {
     "data": {
      "text/plain": [
       "<bound method Module.modules of LongtrieverRetriever(\n",
       "  (encoder): Longtriever(\n",
       "    (embeddings): BertEmbeddings(\n",
       "      (word_embeddings): Embedding(30522, 768, padding_idx=0)\n",
       "      (position_embeddings): Embedding(512, 768)\n",
       "      (token_type_embeddings): Embedding(2, 768)\n",
       "      (LayerNorm): LayerNorm((768,), eps=1e-12, elementwise_affine=True)\n",
       "      (dropout): Dropout(p=0.1, inplace=False)\n",
       "    )\n",
       "    (encoder): BlockLevelContextawareEncoder(\n",
       "      (text_encoding_layer): ModuleList(\n",
       "        (0-11): 12 x BertLayer(\n",
       "          (attention): BertAttention(\n",
       "            (self): BertSdpaSelfAttention(\n",
       "              (query): Linear(in_features=768, out_features=768, bias=True)\n",
       "              (key): Linear(in_features=768, out_features=768, bias=True)\n",
       "              (value): Linear(in_features=768, out_features=768, bias=True)\n",
       "              (dropout): Dropout(p=0.1, inplace=False)\n",
       "            )\n",
       "            (output): BertSelfOutput(\n",
       "              (dense): Linear(in_features=768, out_features=768, bias=True)\n",
       "              (LayerNorm): LayerNorm((768,), eps=1e-12, elementwise_affine=True)\n",
       "              (dropout): Dropout(p=0.1, inplace=False)\n",
       "            )\n",
       "          )\n",
       "          (intermediate): BertIntermediate(\n",
       "            (dense): Linear(in_features=768, out_features=3072, bias=True)\n",
       "            (intermediate_act_fn): GELUActivation()\n",
       "          )\n",
       "          (output): BertOutput(\n",
       "            (dense): Linear(in_features=3072, out_features=768, bias=True)\n",
       "            (LayerNorm): LayerNorm((768,), eps=1e-12, elementwise_affine=True)\n",
       "            (dropout): Dropout(p=0.1, inplace=False)\n",
       "          )\n",
       "        )\n",
       "      )\n",
       "      (information_exchanging_layer): ModuleList(\n",
       "        (0-11): 12 x BertLayer(\n",
       "          (attention): BertAttention(\n",
       "            (self): BertSdpaSelfAttention(\n",
       "              (query): Linear(in_features=768, out_features=768, bias=True)\n",
       "              (key): Linear(in_features=768, out_features=768, bias=True)\n",
       "              (value): Linear(in_features=768, out_features=768, bias=True)\n",
       "              (dropout): Dropout(p=0.1, inplace=False)\n",
       "            )\n",
       "            (output): BertSelfOutput(\n",
       "              (dense): Linear(in_features=768, out_features=768, bias=True)\n",
       "              (LayerNorm): LayerNorm((768,), eps=1e-12, elementwise_affine=True)\n",
       "              (dropout): Dropout(p=0.1, inplace=False)\n",
       "            )\n",
       "          )\n",
       "          (intermediate): BertIntermediate(\n",
       "            (dense): Linear(in_features=768, out_features=3072, bias=True)\n",
       "            (intermediate_act_fn): GELUActivation()\n",
       "          )\n",
       "          (output): BertOutput(\n",
       "            (dense): Linear(in_features=3072, out_features=768, bias=True)\n",
       "            (LayerNorm): LayerNorm((768,), eps=1e-12, elementwise_affine=True)\n",
       "            (dropout): Dropout(p=0.1, inplace=False)\n",
       "          )\n",
       "        )\n",
       "      )\n",
       "    )\n",
       "  )\n",
       ")>"
      ]
     },
     "execution_count": 4,
     "metadata": {},
     "output_type": "execute_result"
    }
   ],
   "source": [
    "regular_longtriever = LongtrieverRetriever(Longtriever.from_pretrained(\"/Tmp/lvpoellhuber/models/longtriever/pretrained/bert-base-uncased\", ablation_config={\"inter_block_encoder\":True, \"doc_token\":True})) \n",
    "regular_longtriever.modules"
   ]
  },
  {
   "cell_type": "code",
   "execution_count": 5,
   "id": "72b717df",
   "metadata": {},
   "outputs": [
    {
     "name": "stderr",
     "output_type": "stream",
     "text": [
      "You are using a model of type longtriever to instantiate a model of type bert. This is not supported for all configurations of models and can yield errors.\n"
     ]
    },
    {
     "data": {
      "text/plain": [
       "<bound method Module.modules of LongtrieverRetriever(\n",
       "  (encoder): Longtriever(\n",
       "    (embeddings): BertEmbeddings(\n",
       "      (word_embeddings): Embedding(30522, 768, padding_idx=0)\n",
       "      (position_embeddings): Embedding(512, 768)\n",
       "      (token_type_embeddings): Embedding(2, 768)\n",
       "      (LayerNorm): LayerNorm((768,), eps=1e-12, elementwise_affine=True)\n",
       "      (dropout): Dropout(p=0.1, inplace=False)\n",
       "    )\n",
       "    (encoder): BlockLevelContextawareEncoder(\n",
       "      (text_encoding_layer): ModuleList(\n",
       "        (0-11): 12 x BertLayer(\n",
       "          (attention): BertAttention(\n",
       "            (self): BertSdpaSelfAttention(\n",
       "              (query): Linear(in_features=768, out_features=768, bias=True)\n",
       "              (key): Linear(in_features=768, out_features=768, bias=True)\n",
       "              (value): Linear(in_features=768, out_features=768, bias=True)\n",
       "              (dropout): Dropout(p=0.1, inplace=False)\n",
       "            )\n",
       "            (output): BertSelfOutput(\n",
       "              (dense): Linear(in_features=768, out_features=768, bias=True)\n",
       "              (LayerNorm): LayerNorm((768,), eps=1e-12, elementwise_affine=True)\n",
       "              (dropout): Dropout(p=0.1, inplace=False)\n",
       "            )\n",
       "          )\n",
       "          (intermediate): BertIntermediate(\n",
       "            (dense): Linear(in_features=768, out_features=3072, bias=True)\n",
       "            (intermediate_act_fn): GELUActivation()\n",
       "          )\n",
       "          (output): BertOutput(\n",
       "            (dense): Linear(in_features=3072, out_features=768, bias=True)\n",
       "            (LayerNorm): LayerNorm((768,), eps=1e-12, elementwise_affine=True)\n",
       "            (dropout): Dropout(p=0.1, inplace=False)\n",
       "          )\n",
       "        )\n",
       "      )\n",
       "      (information_exchanging_layer): ModuleList(\n",
       "        (0-11): 12 x BertLayer(\n",
       "          (attention): BertAttention(\n",
       "            (self): BertSdpaSelfAttention(\n",
       "              (query): Linear(in_features=768, out_features=768, bias=True)\n",
       "              (key): Linear(in_features=768, out_features=768, bias=True)\n",
       "              (value): Linear(in_features=768, out_features=768, bias=True)\n",
       "              (dropout): Dropout(p=0.1, inplace=False)\n",
       "            )\n",
       "            (output): BertSelfOutput(\n",
       "              (dense): Linear(in_features=768, out_features=768, bias=True)\n",
       "              (LayerNorm): LayerNorm((768,), eps=1e-12, elementwise_affine=True)\n",
       "              (dropout): Dropout(p=0.1, inplace=False)\n",
       "            )\n",
       "          )\n",
       "          (intermediate): BertIntermediate(\n",
       "            (dense): Linear(in_features=768, out_features=3072, bias=True)\n",
       "            (intermediate_act_fn): GELUActivation()\n",
       "          )\n",
       "          (output): BertOutput(\n",
       "            (dense): Linear(in_features=3072, out_features=768, bias=True)\n",
       "            (LayerNorm): LayerNorm((768,), eps=1e-12, elementwise_affine=True)\n",
       "            (dropout): Dropout(p=0.1, inplace=False)\n",
       "          )\n",
       "        )\n",
       "      )\n",
       "    )\n",
       "  )\n",
       ")>"
      ]
     },
     "execution_count": 5,
     "metadata": {},
     "output_type": "execute_result"
    }
   ],
   "source": [
    "stripped_longtriever = LongtrieverRetriever(Longtriever.from_pretrained(\"/Tmp/lvpoellhuber/models/longtriever/pretrained/bert-base-uncased\", {\"inter_block_encoder\":False, \"doc_token\":False})) \n",
    "stripped_longtriever.modules"
   ]
  },
  {
   "cell_type": "code",
   "execution_count": 6,
   "id": "c3b4c386",
   "metadata": {},
   "outputs": [
    {
     "data": {
      "text/plain": [
       "<bound method Module.modules of BertModel(\n",
       "  (embeddings): BertEmbeddings(\n",
       "    (word_embeddings): Embedding(30522, 768, padding_idx=0)\n",
       "    (position_embeddings): Embedding(512, 768)\n",
       "    (token_type_embeddings): Embedding(2, 768)\n",
       "    (LayerNorm): LayerNorm((768,), eps=1e-12, elementwise_affine=True)\n",
       "    (dropout): Dropout(p=0.1, inplace=False)\n",
       "  )\n",
       "  (encoder): BertEncoder(\n",
       "    (layer): ModuleList(\n",
       "      (0-11): 12 x BertLayer(\n",
       "        (attention): BertAttention(\n",
       "          (self): BertSdpaSelfAttention(\n",
       "            (query): Linear(in_features=768, out_features=768, bias=True)\n",
       "            (key): Linear(in_features=768, out_features=768, bias=True)\n",
       "            (value): Linear(in_features=768, out_features=768, bias=True)\n",
       "            (dropout): Dropout(p=0.1, inplace=False)\n",
       "          )\n",
       "          (output): BertSelfOutput(\n",
       "            (dense): Linear(in_features=768, out_features=768, bias=True)\n",
       "            (LayerNorm): LayerNorm((768,), eps=1e-12, elementwise_affine=True)\n",
       "            (dropout): Dropout(p=0.1, inplace=False)\n",
       "          )\n",
       "        )\n",
       "        (intermediate): BertIntermediate(\n",
       "          (dense): Linear(in_features=768, out_features=3072, bias=True)\n",
       "          (intermediate_act_fn): GELUActivation()\n",
       "        )\n",
       "        (output): BertOutput(\n",
       "          (dense): Linear(in_features=3072, out_features=768, bias=True)\n",
       "          (LayerNorm): LayerNorm((768,), eps=1e-12, elementwise_affine=True)\n",
       "          (dropout): Dropout(p=0.1, inplace=False)\n",
       "        )\n",
       "      )\n",
       "    )\n",
       "  )\n",
       "  (pooler): BertPooler(\n",
       "    (dense): Linear(in_features=768, out_features=768, bias=True)\n",
       "    (activation): Tanh()\n",
       "  )\n",
       ")>"
      ]
     },
     "execution_count": 6,
     "metadata": {},
     "output_type": "execute_result"
    }
   ],
   "source": [
    "base_model = AutoModel.from_pretrained(\"google-bert/bert-base-uncased\").to(\"cpu\")\n",
    "base_model.modules"
   ]
  },
  {
   "cell_type": "markdown",
   "id": "098ef03f",
   "metadata": {},
   "source": [
    "## Pretrained BERT Longtrievers"
   ]
  },
  {
   "cell_type": "code",
   "execution_count": 9,
   "id": "43252ca1",
   "metadata": {},
   "outputs": [
    {
     "name": "stderr",
     "output_type": "stream",
     "text": [
      "You are using a model of type longtriever to instantiate a model of type bert. This is not supported for all configurations of models and can yield errors.\n",
      "You are using a model of type hierarchical_longtriever to instantiate a model of type bert. This is not supported for all configurations of models and can yield errors.\n",
      "You are using a model of type longtriever to instantiate a model of type bert. This is not supported for all configurations of models and can yield errors.\n"
     ]
    }
   ],
   "source": [
    "lt_1 = LongtrieverRetriever(Longtriever.from_pretrained(\"/Tmp/lvpoellhuber/models/longtriever_og/pretrained/bert-base-uncased\", {\"inter_block_encoder\":True, \"doc_token\":True}))\n",
    "lt_2 = LongtrieverRetriever(Longtriever.from_pretrained(\"/Tmp/lvpoellhuber/models/longtriever_og/pretrained/bert-base-uncased-2\", {\"inter_block_encoder\":True, \"doc_token\":True}))\n",
    "lt_3 = LongtrieverRetriever(Longtriever.from_pretrained(\"/Tmp/lvpoellhuber/models/longtriever_og/pretrained/bert-base-uncased-3\", {\"inter_block_encoder\":True, \"doc_token\":True}))\n",
    "# lt_4 = LongtrieverRetriever(Longtriever.from_pretrained(\"/Tmp/lvpoellhuber/models/longtriever_og/pretrained/bert-base-uncased-4\", {\"inter_block_encoder\":True, \"doc_token\":True}))\n",
    "# lt_5 = LongtrieverRetriever(Longtriever.from_pretrained(\"/Tmp/lvpoellhuber/models/longtriever_og/pretrained/bert-base-uncased-5\", {\"inter_block_encoder\":True, \"doc_token\":True}))"
   ]
  },
  {
   "cell_type": "code",
   "execution_count": 10,
   "id": "11ed8f9f",
   "metadata": {},
   "outputs": [],
   "source": [
    "def check_weights(model_1, model_2):\n",
    "    # Compare weights\n",
    "    model_2_weights = model_2.state_dict().keys()\n",
    "\n",
    "    for name, param in model_1.named_parameters():\n",
    "        # print(name)\n",
    "        if name in model_2_weights:\n",
    "            model_2_text_param = model_2.state_dict()[name]\n",
    "            if torch.equal(param, model_2_text_param):\n",
    "                # print(f\"Layer {name} matches\")\n",
    "                pass\n",
    "            else:\n",
    "                print(f\"Layer {name} does not match\")\n",
    "                # return param, model_2_text_param\n",
    "                pass\n",
    "        else:\n",
    "            print(f\"Layer {name} not found.\")\n",
    "            pass\n",
    "\n",
    "    return"
   ]
  },
  {
   "cell_type": "code",
   "execution_count": 11,
   "id": "1412c8a0",
   "metadata": {},
   "outputs": [
    {
     "name": "stdout",
     "output_type": "stream",
     "text": [
      "Layer encoder.doc_embeddings does not match\n"
     ]
    }
   ],
   "source": [
    "check_weights(lt_1, lt_2)"
   ]
  },
  {
   "cell_type": "code",
   "execution_count": 12,
   "id": "db398232",
   "metadata": {},
   "outputs": [],
   "source": [
    "check_weights(lt_1, lt_3)"
   ]
  },
  {
   "cell_type": "code",
   "execution_count": 48,
   "id": "63e3ff9a",
   "metadata": {},
   "outputs": [
    {
     "name": "stdout",
     "output_type": "stream",
     "text": [
      "Layer encoder.doc_embeddings does not match\n"
     ]
    }
   ],
   "source": [
    "check_weights(lt_2, lt_3)"
   ]
  },
  {
   "cell_type": "code",
   "execution_count": 49,
   "id": "502c5b38",
   "metadata": {},
   "outputs": [],
   "source": [
    "check_weights(lt_1, lt_4)"
   ]
  },
  {
   "cell_type": "code",
   "execution_count": 70,
   "id": "2327825a",
   "metadata": {},
   "outputs": [
    {
     "name": "stdout",
     "output_type": "stream",
     "text": [
      "Layer encoder.doc_embeddings does not match\n"
     ]
    }
   ],
   "source": [
    "p1, p2 = check_weights(lt_1, lt_5)"
   ]
  },
  {
   "cell_type": "code",
   "execution_count": 7,
   "id": "ca5a2f43",
   "metadata": {},
   "outputs": [
    {
     "data": {
      "text/plain": [
       "tensor([[ 0.0000e+00,  0.0000e+00,  2.7592e-42,  0.0000e+00,  7.6607e-33,\n",
       "          4.5598e-41, -1.0047e-25,  3.0964e-41,  0.0000e+00,  0.0000e+00,\n",
       "          0.0000e+00,  0.0000e+00,  0.0000e+00,  0.0000e+00,  0.0000e+00,\n",
       "          0.0000e+00,  0.0000e+00,  0.0000e+00,  0.0000e+00,  0.0000e+00,\n",
       "          0.0000e+00,  0.0000e+00,  0.0000e+00,  0.0000e+00,  0.0000e+00,\n",
       "          0.0000e+00,  0.0000e+00,  0.0000e+00,  0.0000e+00,  0.0000e+00,\n",
       "          0.0000e+00,  0.0000e+00,  0.0000e+00,  0.0000e+00,  0.0000e+00,\n",
       "          0.0000e+00,  0.0000e+00,  0.0000e+00,  0.0000e+00,  0.0000e+00,\n",
       "          0.0000e+00,  0.0000e+00,  0.0000e+00,  0.0000e+00,  0.0000e+00,\n",
       "          0.0000e+00,  0.0000e+00,  0.0000e+00,  0.0000e+00,  0.0000e+00,\n",
       "          0.0000e+00,  0.0000e+00,  0.0000e+00,  0.0000e+00,  0.0000e+00,\n",
       "          0.0000e+00,  0.0000e+00,  0.0000e+00,  0.0000e+00,  0.0000e+00,\n",
       "          0.0000e+00,  0.0000e+00,  0.0000e+00,  0.0000e+00,  0.0000e+00,\n",
       "          0.0000e+00,  0.0000e+00,  0.0000e+00,  0.0000e+00,  0.0000e+00,\n",
       "          0.0000e+00,  0.0000e+00,  0.0000e+00,  0.0000e+00,  0.0000e+00,\n",
       "          0.0000e+00,  0.0000e+00,  0.0000e+00,  0.0000e+00,  0.0000e+00,\n",
       "          0.0000e+00,  0.0000e+00,  0.0000e+00,  0.0000e+00,  0.0000e+00,\n",
       "          0.0000e+00,  0.0000e+00,  0.0000e+00,  0.0000e+00,  0.0000e+00,\n",
       "          0.0000e+00,  0.0000e+00,  0.0000e+00,  0.0000e+00,  0.0000e+00,\n",
       "          0.0000e+00,  0.0000e+00,  0.0000e+00,  0.0000e+00,  0.0000e+00,\n",
       "          0.0000e+00,  0.0000e+00,  0.0000e+00,  0.0000e+00,  0.0000e+00,\n",
       "          0.0000e+00,  0.0000e+00,  0.0000e+00,  0.0000e+00,  0.0000e+00,\n",
       "          0.0000e+00,  0.0000e+00,  0.0000e+00,  0.0000e+00,  0.0000e+00,\n",
       "          0.0000e+00,  0.0000e+00,  0.0000e+00,  0.0000e+00,  0.0000e+00,\n",
       "          0.0000e+00,  0.0000e+00,  0.0000e+00,  0.0000e+00,  0.0000e+00,\n",
       "          0.0000e+00,  0.0000e+00,  0.0000e+00,  0.0000e+00,  0.0000e+00,\n",
       "          0.0000e+00,  0.0000e+00,  0.0000e+00,  0.0000e+00,  0.0000e+00,\n",
       "          0.0000e+00,  0.0000e+00,  0.0000e+00,  0.0000e+00,  0.0000e+00,\n",
       "          0.0000e+00,  0.0000e+00,  0.0000e+00,  0.0000e+00,  0.0000e+00,\n",
       "          0.0000e+00,  0.0000e+00,  0.0000e+00,  0.0000e+00,  0.0000e+00,\n",
       "          0.0000e+00,  0.0000e+00,  0.0000e+00,  0.0000e+00,  0.0000e+00,\n",
       "          0.0000e+00,  0.0000e+00,  0.0000e+00,  0.0000e+00,  0.0000e+00,\n",
       "          0.0000e+00,  0.0000e+00,  0.0000e+00,  0.0000e+00,  0.0000e+00,\n",
       "          0.0000e+00,  0.0000e+00,  0.0000e+00,  0.0000e+00,  0.0000e+00,\n",
       "          0.0000e+00,  0.0000e+00,  0.0000e+00,  0.0000e+00,  0.0000e+00,\n",
       "          0.0000e+00,  0.0000e+00,  0.0000e+00,  0.0000e+00,  0.0000e+00,\n",
       "          0.0000e+00,  0.0000e+00,  0.0000e+00,  0.0000e+00,  0.0000e+00,\n",
       "          0.0000e+00,  0.0000e+00,  0.0000e+00,  0.0000e+00,  0.0000e+00,\n",
       "          0.0000e+00,  0.0000e+00,  0.0000e+00,  0.0000e+00,  0.0000e+00,\n",
       "          0.0000e+00,  0.0000e+00,  0.0000e+00,  0.0000e+00,  0.0000e+00,\n",
       "          0.0000e+00,  0.0000e+00,  0.0000e+00,  0.0000e+00,  0.0000e+00,\n",
       "          0.0000e+00,  0.0000e+00,  0.0000e+00,  0.0000e+00,  0.0000e+00,\n",
       "          0.0000e+00,  0.0000e+00,  0.0000e+00,  0.0000e+00,  0.0000e+00,\n",
       "          0.0000e+00,  0.0000e+00,  0.0000e+00,  0.0000e+00,  0.0000e+00,\n",
       "          0.0000e+00,  0.0000e+00,  0.0000e+00,  0.0000e+00,  0.0000e+00,\n",
       "          0.0000e+00,  0.0000e+00,  0.0000e+00,  0.0000e+00,  0.0000e+00,\n",
       "          0.0000e+00,  0.0000e+00,  0.0000e+00,  0.0000e+00,  0.0000e+00,\n",
       "          0.0000e+00,  0.0000e+00,  0.0000e+00,  0.0000e+00,  0.0000e+00,\n",
       "          0.0000e+00,  0.0000e+00,  0.0000e+00,  0.0000e+00,  0.0000e+00,\n",
       "          0.0000e+00,  0.0000e+00,  0.0000e+00,  0.0000e+00,  0.0000e+00,\n",
       "          0.0000e+00,  0.0000e+00,  0.0000e+00,  0.0000e+00,  0.0000e+00,\n",
       "          0.0000e+00,  0.0000e+00,  0.0000e+00,  0.0000e+00,  0.0000e+00,\n",
       "          0.0000e+00,  0.0000e+00,  0.0000e+00,  0.0000e+00,  0.0000e+00,\n",
       "          0.0000e+00,  0.0000e+00,  0.0000e+00,  0.0000e+00,  0.0000e+00,\n",
       "          0.0000e+00,  0.0000e+00,  0.0000e+00,  0.0000e+00,  0.0000e+00,\n",
       "          0.0000e+00,  0.0000e+00,  0.0000e+00,  0.0000e+00,  0.0000e+00,\n",
       "          0.0000e+00,  0.0000e+00,  0.0000e+00,  0.0000e+00,  0.0000e+00,\n",
       "          0.0000e+00,  0.0000e+00,  0.0000e+00,  0.0000e+00,  0.0000e+00,\n",
       "          0.0000e+00,  0.0000e+00,  0.0000e+00,  0.0000e+00,  0.0000e+00,\n",
       "          0.0000e+00,  0.0000e+00,  0.0000e+00,  0.0000e+00,  0.0000e+00,\n",
       "          0.0000e+00,  0.0000e+00,  0.0000e+00,  0.0000e+00,  0.0000e+00,\n",
       "          0.0000e+00,  0.0000e+00,  0.0000e+00,  0.0000e+00,  0.0000e+00,\n",
       "          0.0000e+00,  0.0000e+00,  0.0000e+00,  0.0000e+00,  0.0000e+00,\n",
       "          0.0000e+00,  0.0000e+00,  0.0000e+00,  0.0000e+00,  0.0000e+00,\n",
       "          0.0000e+00,  0.0000e+00,  0.0000e+00,  0.0000e+00,  0.0000e+00,\n",
       "          0.0000e+00,  0.0000e+00,  0.0000e+00,  0.0000e+00,  0.0000e+00,\n",
       "          0.0000e+00,  0.0000e+00,  0.0000e+00,  0.0000e+00,  0.0000e+00,\n",
       "          0.0000e+00,  0.0000e+00,  0.0000e+00,  0.0000e+00,  0.0000e+00,\n",
       "          0.0000e+00,  0.0000e+00,  0.0000e+00,  0.0000e+00,  0.0000e+00,\n",
       "          0.0000e+00,  0.0000e+00,  0.0000e+00,  0.0000e+00,  0.0000e+00,\n",
       "          0.0000e+00,  0.0000e+00,  0.0000e+00,  0.0000e+00,  0.0000e+00,\n",
       "          0.0000e+00,  0.0000e+00,  0.0000e+00,  0.0000e+00,  0.0000e+00,\n",
       "          0.0000e+00,  0.0000e+00,  0.0000e+00,  0.0000e+00,  0.0000e+00,\n",
       "          0.0000e+00,  0.0000e+00,  0.0000e+00,  0.0000e+00,  0.0000e+00,\n",
       "          0.0000e+00,  0.0000e+00,  0.0000e+00,  0.0000e+00,  0.0000e+00,\n",
       "          0.0000e+00,  0.0000e+00,  0.0000e+00,  0.0000e+00,  0.0000e+00,\n",
       "          0.0000e+00,  0.0000e+00,  0.0000e+00,  0.0000e+00,  0.0000e+00,\n",
       "          0.0000e+00,  0.0000e+00,  0.0000e+00,  0.0000e+00,  0.0000e+00,\n",
       "          0.0000e+00,  0.0000e+00,  0.0000e+00,  0.0000e+00,  0.0000e+00,\n",
       "          0.0000e+00,  0.0000e+00,  0.0000e+00,  0.0000e+00,  0.0000e+00,\n",
       "          0.0000e+00,  0.0000e+00,  0.0000e+00,  0.0000e+00,  0.0000e+00,\n",
       "          0.0000e+00,  0.0000e+00,  0.0000e+00,  0.0000e+00,  0.0000e+00,\n",
       "          0.0000e+00,  0.0000e+00,  0.0000e+00,  0.0000e+00,  0.0000e+00,\n",
       "          0.0000e+00,  0.0000e+00,  0.0000e+00,  0.0000e+00,  0.0000e+00,\n",
       "          0.0000e+00,  0.0000e+00,  0.0000e+00,  0.0000e+00,  0.0000e+00,\n",
       "          0.0000e+00,  0.0000e+00,  0.0000e+00,  0.0000e+00,  0.0000e+00,\n",
       "          0.0000e+00,  0.0000e+00,  0.0000e+00,  0.0000e+00,  0.0000e+00,\n",
       "          0.0000e+00,  0.0000e+00,  0.0000e+00,  0.0000e+00,  0.0000e+00,\n",
       "          0.0000e+00,  0.0000e+00,  0.0000e+00,  0.0000e+00,  0.0000e+00,\n",
       "          0.0000e+00,  0.0000e+00,  0.0000e+00,  0.0000e+00,  0.0000e+00,\n",
       "          0.0000e+00,  0.0000e+00,  0.0000e+00,  0.0000e+00,  0.0000e+00,\n",
       "          0.0000e+00,  0.0000e+00,  0.0000e+00,  0.0000e+00,  0.0000e+00,\n",
       "          0.0000e+00,  0.0000e+00,  0.0000e+00,  0.0000e+00,  0.0000e+00,\n",
       "          0.0000e+00,  0.0000e+00,  0.0000e+00,  0.0000e+00,  0.0000e+00,\n",
       "          0.0000e+00,  0.0000e+00,  0.0000e+00,  0.0000e+00,  0.0000e+00,\n",
       "          0.0000e+00,  0.0000e+00,  0.0000e+00,  0.0000e+00,  0.0000e+00,\n",
       "         -1.2983e-20,  1.1754e-38,  6.8664e-44,  0.0000e+00, -1.1744e-25,\n",
       "          3.0964e-41, -1.1852e-25,  3.0964e-41, -1.0050e-25,  3.0964e-41,\n",
       "         -1.0050e-25,  3.0964e-41,  2.8474e-42,  0.0000e+00,  4.3272e-42,\n",
       "          0.0000e+00,  6.4460e-44,  0.0000e+00,  1.1901e-40,  0.0000e+00,\n",
       "          7.6607e-33,  4.5598e-41, -1.0047e-25,  3.0964e-41,  0.0000e+00,\n",
       "          0.0000e+00,  0.0000e+00,  0.0000e+00,  5.6052e-44,  0.0000e+00,\n",
       "         -1.0167e-25,  3.0964e-41,  5.6052e-44,  0.0000e+00,  2.8026e-44,\n",
       "          0.0000e+00,  6.3058e-44,  0.0000e+00, -1.3081e-25,  3.0964e-41,\n",
       "          6.3058e-44,  0.0000e+00,  5.7453e-44,  0.0000e+00,  6.7262e-44,\n",
       "          0.0000e+00, -1.0487e-25,  3.0964e-41,  6.7262e-44,  0.0000e+00,\n",
       "          1.0930e-43,  0.0000e+00,  6.4460e-44,  0.0000e+00, -1.3192e-25,\n",
       "          3.0964e-41,  6.4460e-44,  0.0000e+00,  1.5695e-43,  0.0000e+00,\n",
       "          7.5670e-44,  0.0000e+00,  1.4013e-45,  0.0000e+00, -1.3353e-25,\n",
       "          3.0964e-41,  1.4013e-45,  0.0000e+00,  1.8564e-32,  0.0000e+00,\n",
       "          1.8569e-32,  0.0000e+00, -1.2983e-20,  1.1754e-38,  6.4460e-44,\n",
       "          0.0000e+00, -1.1275e-25,  3.0964e-41,  6.4460e-44,  0.0000e+00,\n",
       "          2.8026e-45,  0.0000e+00, -1.0811e-25,  3.0964e-41,  2.8026e-45,\n",
       "          0.0000e+00,  4.6587e-28,  0.0000e+00,  1.0327e-27,  0.0000e+00,\n",
       "         -1.2983e-20,  1.1754e-38,  5.7453e-44,  0.0000e+00, -1.2886e-25,\n",
       "          3.0964e-41,  5.7453e-44,  0.0000e+00,  2.8166e-43,  0.0000e+00,\n",
       "         -1.1546e-25,  3.0964e-41,  2.8026e-45,  0.0000e+00,  2.0717e-28,\n",
       "          0.0000e+00,  2.6397e-28,  0.0000e+00, -1.2983e-20,  1.1754e-38,\n",
       "          5.6052e-44,  0.0000e+00, -1.2768e-25,  3.0964e-41,  5.6052e-44,\n",
       "          0.0000e+00,  2.8026e-45,  0.0000e+00, -1.2980e-25,  3.0964e-41,\n",
       "          2.8026e-45,  0.0000e+00,  9.5914e-29,  0.0000e+00,  2.0695e-28,\n",
       "          0.0000e+00, -1.2983e-20,  1.1754e-38,  6.7262e-44,  0.0000e+00,\n",
       "         -1.0719e-25,  3.0964e-41,  6.7262e-44,  0.0000e+00, -1.0590e-25,\n",
       "          3.0964e-41,  6.7262e-44,  0.0000e+00,  1.5414e-43,  0.0000e+00,\n",
       "          6.1657e-44,  0.0000e+00, -1.1767e-25,  3.0964e-41,  6.1657e-44,\n",
       "          0.0000e+00,  3.5032e-44,  0.0000e+00, -1.1669e-25,  3.0964e-41,\n",
       "          6.4460e-44,  0.0000e+00,  1.4013e-45,  0.0000e+00, -1.1011e-25,\n",
       "          3.0964e-41,  6.4460e-44,  0.0000e+00, -1.1637e-25,  3.0964e-41,\n",
       "          6.4460e-44,  0.0000e+00,  1.0370e-43,  0.0000e+00,  7.2868e-44,\n",
       "          0.0000e+00, -1.2414e-25,  3.0964e-41,  7.2868e-44,  0.0000e+00,\n",
       "          1.4013e-45,  0.0000e+00, -1.3448e-25,  3.0964e-41,  1.4013e-45,\n",
       "          0.0000e+00,  2.2692e-27,  0.0000e+00,  2.2698e-27,  0.0000e+00,\n",
       "          5.6052e-44,  0.0000e+00, -9.1109e-26,  3.0964e-41,  5.6052e-44,\n",
       "          0.0000e+00,  1.1771e-43,  0.0000e+00,  6.1657e-44,  0.0000e+00,\n",
       "         -1.2043e-25,  3.0964e-41,  6.1657e-44,  0.0000e+00,  1.1070e-43,\n",
       "          0.0000e+00,  6.4460e-44,  0.0000e+00, -1.2859e-25,  3.0964e-41,\n",
       "          6.4460e-44,  0.0000e+00,  4.4842e-44,  0.0000e+00,  5.8855e-44,\n",
       "          0.0000e+00,  1.4013e-45,  0.0000e+00, -1.0950e-25,  3.0964e-41,\n",
       "          1.4013e-45,  0.0000e+00,  7.4269e-44,  0.0000e+00, -1.2608e-25,\n",
       "          3.0964e-41,  7.4269e-44,  0.0000e+00,  9.8091e-44,  0.0000e+00,\n",
       "          6.7262e-44,  0.0000e+00, -1.2568e-25,  3.0964e-41,  6.7262e-44,\n",
       "          0.0000e+00,  3.2230e-44,  0.0000e+00,  1.4013e-45,  0.0000e+00,\n",
       "          2.2703e-27,  0.0000e+00,  2.2709e-27,  0.0000e+00, -1.2983e-20,\n",
       "          1.1754e-38,  6.7262e-44,  0.0000e+00, -1.1936e-25,  3.0964e-41,\n",
       "          6.7262e-44,  0.0000e+00,  9.9492e-44,  0.0000e+00,  6.1657e-44,\n",
       "          0.0000e+00, -1.1359e-25,  3.0964e-41,  6.1657e-44,  0.0000e+00,\n",
       "          2.5924e-43,  0.0000e+00,  6.7262e-44,  0.0000e+00, -1.0849e-25,\n",
       "          3.0964e-41,  6.7262e-44,  0.0000e+00,  4.2039e-44,  0.0000e+00,\n",
       "          7.4269e-44,  0.0000e+00, -1.0803e-25,  3.0964e-41,  7.4269e-44,\n",
       "          0.0000e+00,  7.4269e-44,  0.0000e+00,  5.3249e-44,  0.0000e+00,\n",
       "         -1.0497e-25,  3.0964e-41,  5.3249e-44,  0.0000e+00,  2.5083e-43,\n",
       "          0.0000e+00,  6.4460e-44,  0.0000e+00, -1.0409e-25,  3.0964e-41,\n",
       "          6.4460e-44,  0.0000e+00,  1.9338e-43,  0.0000e+00,  2.4423e-30,\n",
       "          0.0000e+00,  2.8860e-30,  0.0000e+00]])"
      ]
     },
     "execution_count": 7,
     "metadata": {},
     "output_type": "execute_result"
    }
   ],
   "source": [
    "lt_1.state_dict()[\"encoder.doc_embeddings\"]"
   ]
  },
  {
   "cell_type": "code",
   "execution_count": 8,
   "id": "666d3bf8",
   "metadata": {},
   "outputs": [
    {
     "data": {
      "text/plain": [
       "tensor([[ 3.3607e-21,  2.8534e-21,  7.1314e-22,  5.9259e-21, -8.2627e-21,\n",
       "          3.4621e-21,  4.1123e-21,  5.1686e-21, -9.3763e-22, -5.6063e-21,\n",
       "          4.1770e-21,  9.0532e-22,  8.0954e-21,  9.8153e-21,  7.9121e-21,\n",
       "          7.5569e-21,  2.8279e-21,  6.0286e-21,  5.1004e-21,  6.3780e-21,\n",
       "         -9.5962e-21, -5.4196e-21, -7.2011e-22,  2.2010e-21,  7.3267e-21,\n",
       "         -8.1823e-21, -1.6555e-21,  8.7139e-21, -9.4093e-21, -1.1364e-21,\n",
       "          7.7839e-21,  7.8821e-21, -6.3830e-21,  1.0823e-21,  2.1597e-21,\n",
       "          9.0186e-21,  5.3344e-21,  4.7210e-21, -8.2843e-21, -6.5514e-21,\n",
       "          1.1786e-21,  8.1720e-21, -2.4733e-21, -9.9968e-21, -1.5920e-21,\n",
       "         -6.5804e-21, -9.4236e-21,  9.1775e-21, -4.9416e-21,  8.5639e-21,\n",
       "         -7.9779e-21,  7.8616e-21,  5.5414e-21, -2.4023e-21, -4.0171e-21,\n",
       "          5.2023e-22,  6.6720e-21, -4.5018e-21, -4.5321e-21,  7.6155e-21,\n",
       "          5.5249e-21, -7.0567e-21, -4.3099e-21,  4.8836e-22, -2.9686e-21,\n",
       "         -8.2579e-22, -5.8684e-21, -4.6826e-21, -2.0939e-21, -2.5033e-21,\n",
       "          9.9521e-21,  8.1781e-21, -3.9419e-21, -1.9108e-21, -5.9261e-21,\n",
       "          9.9492e-21, -7.0434e-21,  1.2182e-21, -1.2374e-21, -5.6248e-21,\n",
       "          5.5600e-21,  8.4124e-21,  9.9713e-21, -5.7604e-21, -9.1722e-21,\n",
       "         -6.5798e-21,  2.2606e-21,  6.6157e-21, -5.9810e-21,  2.6884e-22,\n",
       "         -2.5663e-21,  7.8865e-22,  3.4618e-21, -6.2875e-21,  5.3548e-21,\n",
       "         -1.9376e-21, -8.2099e-21, -1.1217e-21, -6.0811e-21, -1.7162e-21,\n",
       "          1.2552e-21, -7.0661e-22, -8.8291e-21, -1.4014e-21, -1.1959e-21,\n",
       "         -5.3275e-21,  9.0124e-21,  5.2037e-21, -8.7532e-21,  6.7698e-21,\n",
       "          4.2271e-21, -4.2555e-21, -4.3868e-21,  6.8732e-21,  7.2582e-21,\n",
       "         -6.6030e-21, -3.9317e-22, -4.2035e-21,  3.2353e-21, -7.6220e-21,\n",
       "         -4.0185e-22,  6.9627e-21,  9.0586e-21,  2.5193e-21,  9.6357e-21,\n",
       "          6.7317e-21,  9.0061e-21,  6.9112e-21,  3.0333e-21,  1.3046e-21,\n",
       "         -9.8438e-21, -2.2980e-21,  6.3398e-21,  6.9656e-22, -5.9588e-21,\n",
       "         -9.0694e-21, -7.5041e-21, -7.3055e-21,  6.4284e-21, -2.1516e-21,\n",
       "          8.2595e-21, -3.9106e-21, -7.1239e-21,  5.2980e-21,  8.1383e-21,\n",
       "          4.5239e-21, -5.5626e-22,  8.8643e-21,  1.1247e-21, -7.4776e-21,\n",
       "         -8.9517e-21, -9.4751e-21, -1.6532e-21,  6.9599e-21, -8.3875e-22,\n",
       "         -5.6289e-21, -7.1523e-21, -1.5023e-21,  8.9907e-21,  9.8429e-21,\n",
       "          1.6225e-21,  8.5354e-21,  6.4590e-21,  3.7703e-21, -5.3699e-21,\n",
       "         -8.5407e-21,  7.2706e-21,  6.7780e-21, -3.5632e-21,  7.4790e-21,\n",
       "          9.7458e-21,  2.6298e-21, -7.4551e-21,  8.5195e-21,  4.5887e-21,\n",
       "          5.8077e-21, -6.0290e-21, -6.2381e-22, -6.0694e-21,  6.7779e-21,\n",
       "         -4.3642e-21, -3.0435e-21,  8.6672e-21, -3.4140e-21,  3.6515e-21,\n",
       "          7.9949e-21,  9.2846e-22,  8.6336e-21, -6.3423e-21,  9.8098e-21,\n",
       "         -2.9530e-21,  2.1983e-21,  7.6160e-21, -3.4515e-21,  7.6003e-21,\n",
       "         -3.2244e-21, -4.5401e-23,  3.4169e-21,  8.3830e-21, -9.9713e-21,\n",
       "          3.4589e-21, -6.0568e-21,  1.6710e-21,  3.4225e-21,  5.5344e-21,\n",
       "          4.7386e-21, -7.8037e-21,  9.8376e-22,  3.5212e-21,  3.1614e-21,\n",
       "         -5.5138e-21,  7.5514e-21, -8.0899e-21,  3.8860e-21,  7.2800e-21,\n",
       "          7.2170e-21, -2.2571e-21,  9.5068e-21,  4.8472e-21, -4.6120e-21,\n",
       "          2.2033e-21,  6.3145e-21, -9.9343e-21, -4.9729e-21,  6.4359e-21,\n",
       "         -8.1369e-21, -5.7608e-21,  7.9699e-21,  8.1408e-21,  8.7679e-21,\n",
       "         -8.1422e-21, -7.3667e-21,  6.6558e-21, -2.1387e-21,  4.9066e-22,\n",
       "         -5.4552e-21,  4.1523e-21,  3.9366e-21,  1.8719e-21,  5.1480e-21,\n",
       "          8.9945e-21, -5.3234e-22,  5.9897e-21,  8.7600e-21, -7.6053e-21,\n",
       "         -1.9060e-21,  2.9355e-21,  2.6782e-21, -4.5346e-21, -1.2539e-21,\n",
       "          8.7524e-21,  9.4396e-22,  3.7047e-21,  2.5785e-24, -6.6021e-21,\n",
       "         -6.2757e-21,  8.5444e-22,  6.2004e-23,  5.8627e-21, -3.6970e-21,\n",
       "          3.8478e-21, -1.0322e-21, -5.5682e-21,  6.9480e-21,  6.5377e-21,\n",
       "         -1.8013e-21,  3.5443e-21, -7.9168e-21,  4.6327e-21, -1.5626e-21,\n",
       "          6.1319e-21, -1.1080e-21, -7.3184e-21, -5.6692e-21, -6.6968e-21,\n",
       "          9.3637e-21,  7.1939e-21, -6.5800e-21,  8.5912e-21,  4.7264e-21,\n",
       "         -3.6259e-21, -5.2606e-21, -1.3303e-21, -6.9656e-21,  1.3901e-21,\n",
       "         -9.6648e-21, -3.6615e-21, -3.0017e-21,  3.2104e-21, -1.5769e-22,\n",
       "          2.7381e-21, -9.6684e-21,  4.5202e-21,  6.5446e-21,  5.7798e-22,\n",
       "         -9.5397e-21, -7.9584e-21,  5.3379e-21,  5.6381e-21,  6.7983e-22,\n",
       "         -3.5415e-21, -8.1687e-21, -1.4918e-21, -2.2950e-21, -9.4426e-21,\n",
       "          4.0717e-21,  7.5851e-22, -9.5020e-21, -1.4166e-21,  5.1648e-21,\n",
       "         -9.4224e-21, -9.0980e-21,  6.6558e-21, -1.0961e-21, -6.6102e-24,\n",
       "          4.4597e-21, -4.6023e-21,  2.8097e-21, -1.7598e-21,  9.2111e-21,\n",
       "          3.8497e-21, -4.2441e-22,  5.2559e-21,  8.3070e-21, -4.8958e-21,\n",
       "         -3.9010e-21,  5.0203e-21,  2.1595e-21,  7.9893e-21,  8.0178e-21,\n",
       "          9.9356e-21,  7.1278e-21,  4.2898e-21, -5.2420e-21,  8.2136e-22,\n",
       "          8.1693e-21, -7.4979e-21,  4.8516e-21,  4.3650e-21, -6.6268e-22,\n",
       "         -9.9087e-22,  3.2244e-21, -8.6920e-21, -3.4515e-21, -7.9853e-21,\n",
       "          3.0670e-21, -1.7323e-21,  3.5200e-21, -5.9703e-21, -7.9448e-21,\n",
       "         -3.1389e-21, -1.9010e-22, -1.6433e-21,  4.8500e-21,  9.5530e-21,\n",
       "          5.9372e-21,  1.8307e-21, -3.6254e-21, -8.1411e-21, -1.7304e-21,\n",
       "         -7.4696e-21,  9.9460e-21, -7.4193e-21,  8.7193e-21,  6.7525e-21,\n",
       "         -8.6168e-21, -8.2401e-21, -2.1935e-21,  6.6726e-22, -5.5250e-21,\n",
       "         -4.9604e-21,  8.0869e-21,  8.9572e-21, -2.3587e-21, -3.0778e-21,\n",
       "          4.4494e-21,  5.8654e-21, -2.2144e-21, -9.5132e-21,  8.4942e-21,\n",
       "         -1.3058e-21,  2.8307e-21,  1.8570e-21,  7.5816e-21, -6.6015e-22,\n",
       "         -5.2363e-21,  7.4020e-21,  4.9600e-21, -6.7535e-21,  7.4570e-21,\n",
       "         -6.3518e-21, -8.8851e-21, -7.1721e-21,  4.6860e-22,  8.6944e-21,\n",
       "          3.6058e-21,  4.0516e-21, -5.8221e-21,  1.4361e-21, -1.8816e-21,\n",
       "          6.7204e-21,  7.3251e-21,  8.5321e-21,  6.2926e-21,  1.9592e-21,\n",
       "          6.2721e-21,  2.8341e-21, -5.7944e-22,  1.4359e-21, -5.9929e-21,\n",
       "          2.0367e-21,  9.3323e-21,  6.4783e-21,  3.7082e-21,  7.1294e-21,\n",
       "         -2.0886e-21,  8.4943e-21,  6.0397e-21, -4.4527e-21,  6.7478e-21,\n",
       "         -1.3261e-21, -2.5499e-21,  8.7098e-21, -7.0124e-21,  4.5395e-21,\n",
       "          7.3735e-21, -1.3107e-21,  3.1272e-21, -4.6965e-22, -7.4530e-23,\n",
       "         -1.0315e-21, -2.2743e-21,  2.7840e-21, -6.2425e-21,  8.6856e-21,\n",
       "          8.5958e-21,  6.4766e-21, -8.2390e-21, -5.4737e-21, -4.1745e-21,\n",
       "         -8.4593e-21, -5.8967e-21,  6.5465e-21,  9.4777e-21,  1.6270e-21,\n",
       "          9.8042e-21,  6.6022e-22,  8.5860e-21, -9.9295e-21,  8.0500e-21,\n",
       "          4.5849e-21, -8.7254e-21,  6.7034e-21, -5.1257e-21, -9.8149e-21,\n",
       "         -5.8988e-21,  1.1237e-21, -3.3380e-21, -8.8339e-21, -7.1180e-21,\n",
       "         -8.9098e-21, -9.7738e-21,  1.6386e-21,  6.5796e-22,  8.8902e-21,\n",
       "          8.4858e-21, -6.6941e-21,  3.1889e-21,  1.5027e-21,  6.1048e-21,\n",
       "          3.9483e-21,  4.1223e-21,  2.8487e-21,  8.3744e-21, -2.5591e-21,\n",
       "          2.5613e-21,  8.1296e-21,  3.5268e-21,  4.7898e-21, -4.8907e-21,\n",
       "         -4.4471e-21,  7.5038e-21, -5.6987e-21,  1.0512e-21,  9.8008e-21,\n",
       "         -2.8935e-21, -8.4567e-21,  2.7472e-21,  6.2579e-21, -7.2470e-21,\n",
       "          2.7814e-22, -4.5478e-21,  3.2798e-21,  6.2780e-21,  2.0290e-21,\n",
       "         -2.6255e-21,  7.5335e-21, -4.0508e-21, -9.1062e-21,  9.9031e-21,\n",
       "          6.8925e-21,  9.3004e-21,  2.8817e-21, -8.0153e-21, -5.7303e-21,\n",
       "          7.8616e-21, -7.5554e-21,  9.3349e-21,  2.8835e-21, -5.0612e-21,\n",
       "          2.2448e-21, -5.3081e-21, -5.1656e-22, -2.2464e-21, -1.8397e-21,\n",
       "         -8.2942e-21, -7.1340e-21,  3.6988e-21, -9.0687e-21,  1.5334e-21,\n",
       "         -2.3889e-21, -6.5245e-21,  9.3581e-21,  4.0427e-21, -7.7343e-21,\n",
       "         -7.4302e-22, -2.0133e-21, -4.7780e-21,  8.1857e-21,  3.5378e-22,\n",
       "         -4.5155e-21,  5.7876e-21,  9.2327e-22,  7.2576e-21, -3.5548e-21,\n",
       "         -4.7972e-21,  6.4997e-21,  7.1249e-21, -5.9813e-21, -8.7678e-21,\n",
       "         -3.4575e-21,  3.3870e-21, -4.2261e-21, -6.0847e-21,  2.8962e-21,\n",
       "         -2.1943e-21,  2.4296e-21,  6.2346e-21,  6.2056e-21, -6.5208e-21,\n",
       "          9.9239e-21, -1.6328e-21,  4.9444e-21, -9.5220e-21, -7.1062e-21,\n",
       "         -4.4522e-21,  6.6836e-21, -4.2697e-21,  7.3435e-21,  9.7406e-21,\n",
       "          8.8902e-21,  8.1278e-21, -7.3952e-21,  8.8449e-22, -5.8539e-21,\n",
       "          5.5765e-21,  7.7684e-21, -9.5339e-21,  7.9874e-21,  1.2146e-21,\n",
       "         -5.7628e-21,  1.4654e-21,  5.3992e-21,  6.9729e-21,  8.2317e-21,\n",
       "         -2.1554e-21, -5.7174e-21,  4.3255e-21,  2.0219e-21,  7.7635e-21,\n",
       "          6.3722e-21, -1.4108e-21, -9.7649e-21,  8.2740e-21,  2.3562e-21,\n",
       "          5.8707e-21, -3.4719e-22, -3.5443e-21,  5.7486e-21, -5.0757e-21,\n",
       "          2.5809e-21,  5.9949e-21,  7.4287e-21,  6.6319e-21, -4.2440e-21,\n",
       "         -8.5328e-21, -1.0424e-21,  6.3284e-21, -1.3869e-21, -3.7901e-21,\n",
       "         -5.1754e-21, -6.6341e-21,  4.9455e-21, -8.1339e-21, -6.2569e-21,\n",
       "         -8.9977e-21, -7.7230e-21,  7.6150e-21, -7.5293e-21,  2.1708e-21,\n",
       "          6.3688e-21,  9.3934e-21,  4.9476e-21,  1.1538e-21,  1.8742e-21,\n",
       "          8.7286e-21, -4.7511e-21,  7.2158e-21, -9.9190e-21,  6.4464e-21,\n",
       "         -3.6150e-21,  8.1223e-21,  8.2939e-21,  8.4972e-21,  6.2590e-21,\n",
       "         -2.3323e-21, -5.2161e-21,  4.6067e-21,  6.2049e-21, -3.5949e-21,\n",
       "          6.4566e-21,  4.7887e-21,  1.8038e-21, -4.9743e-21,  3.1894e-21,\n",
       "         -4.8906e-21,  4.3072e-21, -5.9679e-22, -7.6549e-21,  4.4813e-21,\n",
       "         -6.7121e-22,  1.3613e-21,  9.8481e-21,  5.8102e-21, -1.9433e-21,\n",
       "          9.1709e-21, -7.5388e-21,  5.7893e-21,  3.4860e-21,  5.8549e-21,\n",
       "         -7.7219e-21, -6.9612e-21, -6.0004e-21, -1.5930e-21,  9.3735e-22,\n",
       "         -1.0364e-22,  1.6439e-21,  9.3336e-21,  9.5645e-21,  8.3970e-21,\n",
       "         -3.6990e-21,  4.8258e-21,  3.4980e-21, -3.7372e-21,  4.2706e-21,\n",
       "          2.2014e-21, -5.3597e-21,  6.4979e-21, -3.4553e-22, -1.4768e-22,\n",
       "         -1.8515e-21,  1.3629e-21, -1.9486e-21,  8.2754e-22,  3.9357e-21,\n",
       "         -6.3524e-21, -8.3327e-21,  6.0832e-21, -4.1457e-21, -7.8617e-21,\n",
       "         -9.1912e-21,  1.7263e-22, -2.6066e-21, -3.4105e-21,  5.0923e-21,\n",
       "          4.6336e-21,  9.3769e-21,  9.5596e-21, -8.9926e-21,  6.5889e-21,\n",
       "         -4.1712e-21, -9.6825e-21,  5.4327e-21,  8.1290e-21, -7.7264e-21,\n",
       "          6.0723e-21, -3.7191e-21, -8.7178e-21, -9.9573e-21,  7.3340e-21,\n",
       "          6.8371e-21,  2.7044e-21, -7.3024e-21,  8.7761e-21,  5.8786e-21,\n",
       "         -3.2294e-21, -9.1966e-22,  2.5663e-21, -3.0426e-22,  3.7979e-21,\n",
       "         -5.7537e-21, -3.9676e-21, -5.8447e-21, -2.3647e-22,  2.9783e-21,\n",
       "         -1.2506e-22,  4.8396e-21,  7.7981e-21, -3.5278e-21, -5.7075e-21,\n",
       "          4.7578e-21,  2.1842e-21, -9.9920e-22,  5.2945e-21,  8.4425e-21,\n",
       "          5.6782e-22,  7.0323e-21, -6.2394e-22,  5.8907e-21, -7.1465e-21,\n",
       "         -4.3881e-21, -1.9860e-21,  4.6251e-22, -7.8631e-21, -3.7645e-21,\n",
       "         -9.8146e-21,  2.7221e-21,  3.6252e-21, -1.2546e-21, -1.0694e-21,\n",
       "          4.1801e-22,  7.0803e-21, -3.2816e-21, -1.5741e-21, -8.1111e-21,\n",
       "          7.8060e-21, -4.0318e-21, -2.8754e-21, -3.9707e-21,  4.9904e-22,\n",
       "          3.8285e-21,  6.1442e-21,  7.0188e-21, -3.8707e-21,  3.8889e-21,\n",
       "         -1.1629e-21, -1.8574e-21,  3.1820e-21,  4.8874e-21,  9.1693e-21,\n",
       "          1.3237e-21, -8.8431e-21, -6.8752e-21,  3.7540e-21,  1.8106e-21,\n",
       "         -5.8277e-21, -3.0214e-21, -7.0318e-21]])"
      ]
     },
     "execution_count": 8,
     "metadata": {},
     "output_type": "execute_result"
    }
   ],
   "source": [
    "lt_2.state_dict()[\"encoder.doc_embeddings\"]"
   ]
  },
  {
   "cell_type": "code",
   "execution_count": 43,
   "id": "853563e6",
   "metadata": {},
   "outputs": [
    {
     "data": {
      "text/plain": [
       "<bound method Module.modules of LongtrieverRetriever(\n",
       "  (encoder): Longtriever(\n",
       "    (embeddings): BertEmbeddings(\n",
       "      (word_embeddings): Embedding(30522, 768, padding_idx=0)\n",
       "      (position_embeddings): Embedding(512, 768)\n",
       "      (token_type_embeddings): Embedding(2, 768)\n",
       "      (LayerNorm): LayerNorm((768,), eps=1e-12, elementwise_affine=True)\n",
       "      (dropout): Dropout(p=0.1, inplace=False)\n",
       "    )\n",
       "    (encoder): BlockLevelContextawareEncoder(\n",
       "      (text_encoding_layer): ModuleList(\n",
       "        (0-11): 12 x BertLayer(\n",
       "          (attention): BertAttention(\n",
       "            (self): BertSdpaSelfAttention(\n",
       "              (query): Linear(in_features=768, out_features=768, bias=True)\n",
       "              (key): Linear(in_features=768, out_features=768, bias=True)\n",
       "              (value): Linear(in_features=768, out_features=768, bias=True)\n",
       "              (dropout): Dropout(p=0.1, inplace=False)\n",
       "            )\n",
       "            (output): BertSelfOutput(\n",
       "              (dense): Linear(in_features=768, out_features=768, bias=True)\n",
       "              (LayerNorm): LayerNorm((768,), eps=1e-12, elementwise_affine=True)\n",
       "              (dropout): Dropout(p=0.1, inplace=False)\n",
       "            )\n",
       "          )\n",
       "          (intermediate): BertIntermediate(\n",
       "            (dense): Linear(in_features=768, out_features=3072, bias=True)\n",
       "            (intermediate_act_fn): GELUActivation()\n",
       "          )\n",
       "          (output): BertOutput(\n",
       "            (dense): Linear(in_features=3072, out_features=768, bias=True)\n",
       "            (LayerNorm): LayerNorm((768,), eps=1e-12, elementwise_affine=True)\n",
       "            (dropout): Dropout(p=0.1, inplace=False)\n",
       "          )\n",
       "        )\n",
       "      )\n",
       "      (information_exchanging_layer): ModuleList(\n",
       "        (0-11): 12 x BertLayer(\n",
       "          (attention): BertAttention(\n",
       "            (self): BertSdpaSelfAttention(\n",
       "              (query): Linear(in_features=768, out_features=768, bias=True)\n",
       "              (key): Linear(in_features=768, out_features=768, bias=True)\n",
       "              (value): Linear(in_features=768, out_features=768, bias=True)\n",
       "              (dropout): Dropout(p=0.1, inplace=False)\n",
       "            )\n",
       "            (output): BertSelfOutput(\n",
       "              (dense): Linear(in_features=768, out_features=768, bias=True)\n",
       "              (LayerNorm): LayerNorm((768,), eps=1e-12, elementwise_affine=True)\n",
       "              (dropout): Dropout(p=0.1, inplace=False)\n",
       "            )\n",
       "          )\n",
       "          (intermediate): BertIntermediate(\n",
       "            (dense): Linear(in_features=768, out_features=3072, bias=True)\n",
       "            (intermediate_act_fn): GELUActivation()\n",
       "          )\n",
       "          (output): BertOutput(\n",
       "            (dense): Linear(in_features=3072, out_features=768, bias=True)\n",
       "            (LayerNorm): LayerNorm((768,), eps=1e-12, elementwise_affine=True)\n",
       "            (dropout): Dropout(p=0.1, inplace=False)\n",
       "          )\n",
       "        )\n",
       "      )\n",
       "    )\n",
       "  )\n",
       ")>"
      ]
     },
     "execution_count": 43,
     "metadata": {},
     "output_type": "execute_result"
    }
   ],
   "source": [
    "lt_1.modules"
   ]
  },
  {
   "cell_type": "code",
   "execution_count": 8,
   "id": "192b80c2",
   "metadata": {},
   "outputs": [
    {
     "data": {
      "text/plain": [
       "<bound method Module.modules of LongtrieverRetriever(\n",
       "  (encoder): Longtriever(\n",
       "    (embeddings): BertEmbeddings(\n",
       "      (word_embeddings): Embedding(30522, 768, padding_idx=0)\n",
       "      (position_embeddings): Embedding(512, 768)\n",
       "      (token_type_embeddings): Embedding(2, 768)\n",
       "      (LayerNorm): LayerNorm((768,), eps=1e-12, elementwise_affine=True)\n",
       "      (dropout): Dropout(p=0.1, inplace=False)\n",
       "    )\n",
       "    (encoder): BlockLevelContextawareEncoder(\n",
       "      (text_encoding_layer): ModuleList(\n",
       "        (0-11): 12 x BertLayer(\n",
       "          (attention): BertAttention(\n",
       "            (self): BertSdpaSelfAttention(\n",
       "              (query): Linear(in_features=768, out_features=768, bias=True)\n",
       "              (key): Linear(in_features=768, out_features=768, bias=True)\n",
       "              (value): Linear(in_features=768, out_features=768, bias=True)\n",
       "              (dropout): Dropout(p=0.1, inplace=False)\n",
       "            )\n",
       "            (output): BertSelfOutput(\n",
       "              (dense): Linear(in_features=768, out_features=768, bias=True)\n",
       "              (LayerNorm): LayerNorm((768,), eps=1e-12, elementwise_affine=True)\n",
       "              (dropout): Dropout(p=0.1, inplace=False)\n",
       "            )\n",
       "          )\n",
       "          (intermediate): BertIntermediate(\n",
       "            (dense): Linear(in_features=768, out_features=3072, bias=True)\n",
       "            (intermediate_act_fn): GELUActivation()\n",
       "          )\n",
       "          (output): BertOutput(\n",
       "            (dense): Linear(in_features=3072, out_features=768, bias=True)\n",
       "            (LayerNorm): LayerNorm((768,), eps=1e-12, elementwise_affine=True)\n",
       "            (dropout): Dropout(p=0.1, inplace=False)\n",
       "          )\n",
       "        )\n",
       "      )\n",
       "      (information_exchanging_layer): ModuleList(\n",
       "        (0-11): 12 x BertLayer(\n",
       "          (attention): BertAttention(\n",
       "            (self): BertSdpaSelfAttention(\n",
       "              (query): Linear(in_features=768, out_features=768, bias=True)\n",
       "              (key): Linear(in_features=768, out_features=768, bias=True)\n",
       "              (value): Linear(in_features=768, out_features=768, bias=True)\n",
       "              (dropout): Dropout(p=0.1, inplace=False)\n",
       "            )\n",
       "            (output): BertSelfOutput(\n",
       "              (dense): Linear(in_features=768, out_features=768, bias=True)\n",
       "              (LayerNorm): LayerNorm((768,), eps=1e-12, elementwise_affine=True)\n",
       "              (dropout): Dropout(p=0.1, inplace=False)\n",
       "            )\n",
       "          )\n",
       "          (intermediate): BertIntermediate(\n",
       "            (dense): Linear(in_features=768, out_features=3072, bias=True)\n",
       "            (intermediate_act_fn): GELUActivation()\n",
       "          )\n",
       "          (output): BertOutput(\n",
       "            (dense): Linear(in_features=3072, out_features=768, bias=True)\n",
       "            (LayerNorm): LayerNorm((768,), eps=1e-12, elementwise_affine=True)\n",
       "            (dropout): Dropout(p=0.1, inplace=False)\n",
       "          )\n",
       "        )\n",
       "      )\n",
       "    )\n",
       "  )\n",
       ")>"
      ]
     },
     "execution_count": 8,
     "metadata": {},
     "output_type": "execute_result"
    }
   ],
   "source": [
    "lt_2.modules"
   ]
  },
  {
   "cell_type": "code",
   "execution_count": 9,
   "id": "bb37c17b",
   "metadata": {},
   "outputs": [
    {
     "data": {
      "text/plain": [
       "<bound method Module.modules of LongtrieverRetriever(\n",
       "  (encoder): Longtriever(\n",
       "    (embeddings): BertEmbeddings(\n",
       "      (word_embeddings): Embedding(30522, 768, padding_idx=0)\n",
       "      (position_embeddings): Embedding(512, 768)\n",
       "      (token_type_embeddings): Embedding(2, 768)\n",
       "      (LayerNorm): LayerNorm((768,), eps=1e-12, elementwise_affine=True)\n",
       "      (dropout): Dropout(p=0.1, inplace=False)\n",
       "    )\n",
       "    (encoder): BlockLevelContextawareEncoder(\n",
       "      (text_encoding_layer): ModuleList(\n",
       "        (0-11): 12 x BertLayer(\n",
       "          (attention): BertAttention(\n",
       "            (self): BertSdpaSelfAttention(\n",
       "              (query): Linear(in_features=768, out_features=768, bias=True)\n",
       "              (key): Linear(in_features=768, out_features=768, bias=True)\n",
       "              (value): Linear(in_features=768, out_features=768, bias=True)\n",
       "              (dropout): Dropout(p=0.1, inplace=False)\n",
       "            )\n",
       "            (output): BertSelfOutput(\n",
       "              (dense): Linear(in_features=768, out_features=768, bias=True)\n",
       "              (LayerNorm): LayerNorm((768,), eps=1e-12, elementwise_affine=True)\n",
       "              (dropout): Dropout(p=0.1, inplace=False)\n",
       "            )\n",
       "          )\n",
       "          (intermediate): BertIntermediate(\n",
       "            (dense): Linear(in_features=768, out_features=3072, bias=True)\n",
       "            (intermediate_act_fn): GELUActivation()\n",
       "          )\n",
       "          (output): BertOutput(\n",
       "            (dense): Linear(in_features=3072, out_features=768, bias=True)\n",
       "            (LayerNorm): LayerNorm((768,), eps=1e-12, elementwise_affine=True)\n",
       "            (dropout): Dropout(p=0.1, inplace=False)\n",
       "          )\n",
       "        )\n",
       "      )\n",
       "      (information_exchanging_layer): ModuleList(\n",
       "        (0-11): 12 x BertLayer(\n",
       "          (attention): BertAttention(\n",
       "            (self): BertSdpaSelfAttention(\n",
       "              (query): Linear(in_features=768, out_features=768, bias=True)\n",
       "              (key): Linear(in_features=768, out_features=768, bias=True)\n",
       "              (value): Linear(in_features=768, out_features=768, bias=True)\n",
       "              (dropout): Dropout(p=0.1, inplace=False)\n",
       "            )\n",
       "            (output): BertSelfOutput(\n",
       "              (dense): Linear(in_features=768, out_features=768, bias=True)\n",
       "              (LayerNorm): LayerNorm((768,), eps=1e-12, elementwise_affine=True)\n",
       "              (dropout): Dropout(p=0.1, inplace=False)\n",
       "            )\n",
       "          )\n",
       "          (intermediate): BertIntermediate(\n",
       "            (dense): Linear(in_features=768, out_features=3072, bias=True)\n",
       "            (intermediate_act_fn): GELUActivation()\n",
       "          )\n",
       "          (output): BertOutput(\n",
       "            (dense): Linear(in_features=3072, out_features=768, bias=True)\n",
       "            (LayerNorm): LayerNorm((768,), eps=1e-12, elementwise_affine=True)\n",
       "            (dropout): Dropout(p=0.1, inplace=False)\n",
       "          )\n",
       "        )\n",
       "      )\n",
       "    )\n",
       "  )\n",
       ")>"
      ]
     },
     "execution_count": 9,
     "metadata": {},
     "output_type": "execute_result"
    }
   ],
   "source": [
    "lt_3.modules"
   ]
  },
  {
   "cell_type": "code",
   "execution_count": 35,
   "id": "e5e83026",
   "metadata": {},
   "outputs": [],
   "source": [
    "new_state_dict = lt_3.state_dict()\n",
    "new_state_dict[\"encoder.doc_embeddings\"] = lt_1.state_dict()[\"encoder.doc_embeddings\"]\n",
    "lt_3.load_state_dict(new_state_dict)\n",
    "lt_3.save_pretrained(\"/Tmp/lvpoellhuber/models/longtriever_og/pretrained/bert-base-uncased-4\")"
   ]
  },
  {
   "cell_type": "markdown",
   "id": "10709aff",
   "metadata": {},
   "source": [
    "# Data Inspection\n",
    "\n",
    "### MS Marco Lengths\n",
    "How long are MS Marco documents? How many are there depending on the filter?\n"
   ]
  },
  {
   "cell_type": "code",
   "execution_count": 2,
   "id": "b6ff7ffe",
   "metadata": {},
   "outputs": [
    {
     "name": "stderr",
     "output_type": "stream",
     "text": [
      "100%|██████████| 3201821/3201821 [00:43<00:00, 74268.95it/s]\n"
     ]
    }
   ],
   "source": [
    "corpus, queries, qrels = GenericDataLoader(data_folder=\"/Tmp/lvpoellhuber/datasets/msmarco-doc\").load(split=\"train\")"
   ]
  },
  {
   "cell_type": "code",
   "execution_count": 5,
   "id": "088b8a52",
   "metadata": {},
   "outputs": [
    {
     "data": {
      "text/plain": [
       "'standingdefinition'"
      ]
     },
     "execution_count": 5,
     "metadata": {},
     "output_type": "execute_result"
    }
   ],
   "source": [
    "queries[\"502557\"]"
   ]
  },
  {
   "cell_type": "code",
   "execution_count": 24,
   "id": "7202ac24",
   "metadata": {},
   "outputs": [],
   "source": [
    "corpus_len_df = {}\n",
    "for qid, docrel in qrels.items():\n",
    "    docid = list(docrel.keys())[0]\n",
    "    doc = corpus[docid]\n",
    "    doc_len = len(doc[\"text\"].split(\" \")) + len(doc[\"title\"].split(\" \"))\n",
    "    corpus_len_df[docid] = doc_len\n",
    "corpus_len_df = pd.DataFrame.from_dict(corpus_len_df, orient=\"index\", columns=[\"doc_len\"])"
   ]
  },
  {
   "cell_type": "code",
   "execution_count": 28,
   "id": "826a0bf6",
   "metadata": {},
   "outputs": [],
   "source": [
    "capped_corpus_len_df = corpus_len_df[corpus_len_df[\"doc_len\"] < 4096]\n",
    "\n",
    "capped_corpus_len = []\n",
    "for i in range(len(corpus_len_df)):\n",
    "    length = corpus_len_df.iloc[i][\"doc_len\"]\n",
    "    if length>=4096:\n",
    "        capped_corpus_len.append(4096)\n",
    "    else:\n",
    "        capped_corpus_len.append(length)"
   ]
  },
  {
   "cell_type": "code",
   "execution_count": 33,
   "id": "b0a5482a",
   "metadata": {},
   "outputs": [
    {
     "data": {
      "image/png": "[encoded data removed]",
      "text/plain": [
       "<Figure size 640x480 with 1 Axes>"
      ]
     },
     "metadata": {},
     "output_type": "display_data"
    }
   ],
   "source": [
    "sns.kdeplot(capped_corpus_len)\n",
    "plt.title(\"Document lengths in MS MARCO doc\")\n",
    "plt.show()"
   ]
  },
  {
   "cell_type": "code",
   "execution_count": 5,
   "id": "b42284fd",
   "metadata": {},
   "outputs": [],
   "source": [
    "def plot_filtered_corpus_length(corpus_len_df, min_len=0, max_len=max(corpus_len_df[\"doc_len\"])):\n",
    "    filtered_corpus_len_df = corpus_len_df[(corpus_len_df[\"doc_len\"] >= min_len) & (corpus_len_df[\"doc_len\"] <= max_len)]\n",
    "    print(f\"Original corpus size: {len(corpus_len_df)}, Filtered corpus size: {len(filtered_corpus_len_df)}\")\n",
    "    plt.figure(figsize=(10, 6))\n",
    "    sns.kdeplot(filtered_corpus_len_df)\n",
    "    plt.title(f\"Filtered Corpus Length Distribution ({min_len} - {max_len})\")\n",
    "    plt.xlabel(\"Document Length\")\n",
    "    plt.ylabel(\"Frequency\")\n",
    "    plt.show()"
   ]
  },
  {
   "cell_type": "code",
   "execution_count": 47,
   "id": "c1630a04",
   "metadata": {},
   "outputs": [
    {
     "name": "stdout",
     "output_type": "stream",
     "text": [
      "Original corpus size: 319190, Filtered corpus size: 186254\n"
     ]
    },
    {
     "data": {
      "image/png": "[encoded data removed]",
      "text/plain": [
       "<Figure size 1000x600 with 1 Axes>"
      ]
     },
     "metadata": {},
     "output_type": "display_data"
    }
   ],
   "source": [
    "plot_filtered_corpus_length(corpus_len_df, 512)"
   ]
  },
  {
   "cell_type": "code",
   "execution_count": 2,
   "id": "41bbc5e5",
   "metadata": {},
   "outputs": [
    {
     "name": "stderr",
     "output_type": "stream",
     "text": [
      "100%|██████████| 3201821/3201821 [01:27<00:00, 36469.31it/s]\n"
     ]
    }
   ],
   "source": [
    "corpus, queries, qrels = GenericDataLoader(data_folder=\"/Tmp/lvpoellhuber/datasets/msmarco-doc\").load(split=\"test\")"
   ]
  },
  {
   "cell_type": "code",
   "execution_count": 3,
   "id": "70c20a5c",
   "metadata": {},
   "outputs": [],
   "source": [
    "corpus_len_df = {}\n",
    "for qid, docrel in qrels.items():\n",
    "    docid = list(docrel.keys())[0]\n",
    "    doc = corpus[docid]\n",
    "    doc_len = len(doc[\"text\"].split(\" \")) + len(doc[\"title\"].split(\" \"))\n",
    "    corpus_len_df[docid] = doc_len\n",
    "corpus_len_df = pd.DataFrame.from_dict(corpus_len_df, orient=\"index\", columns=[\"doc_len\"])"
   ]
  },
  {
   "cell_type": "code",
   "execution_count": null,
   "id": "cc80140c",
   "metadata": {},
   "outputs": [
    {
     "name": "stdout",
     "output_type": "stream",
     "text": [
      "Original corpus size: 5179, Filtered corpus size: 3020\n"
     ]
    },
    {
     "data": {
      "image/png": "[encoded data removed]",
      "text/plain": [
       "<Figure size 1000x600 with 1 Axes>"
      ]
     },
     "metadata": {},
     "output_type": "display_data"
    },
    {
     "ename": "",
     "evalue": "",
     "output_type": "error",
     "traceback": [
      "\u001b[1;31mThe Kernel crashed while executing code in the current cell or a previous cell. \n",
      "\u001b[1;31mPlease review the code in the cell(s) to identify a possible cause of the failure. \n",
      "\u001b[1;31mClick <a href='https://aka.ms/vscodeJupyterKernelCrash'>here</a> for more info. \n",
      "\u001b[1;31mView Jupyter <a href='command:jupyter.viewOutput'>log</a> for further details."
     ]
    }
   ],
   "source": [
    "plot_filtered_corpus_length(corpus_len_df, 512)\n"
   ]
  },
  {
   "cell_type": "code",
   "execution_count": 3,
   "id": "0990de0a",
   "metadata": {},
   "outputs": [
    {
     "name": "stderr",
     "output_type": "stream",
     "text": [
      "100%|██████████| 8841823/8841823 [00:20<00:00, 424605.74it/s]\n"
     ]
    }
   ],
   "source": [
    "corpus, queries, qrels = GenericDataLoader(data_folder=\"/Tmp/lvpoellhuber/datasets/msmarco-passage\").load(split=\"train\")"
   ]
  },
  {
   "cell_type": "code",
   "execution_count": 5,
   "id": "b2304c7a",
   "metadata": {},
   "outputs": [
    {
     "data": {
      "text/plain": [
       "502939"
      ]
     },
     "execution_count": 5,
     "metadata": {},
     "output_type": "execute_result"
    }
   ],
   "source": [
    "len(qrels)"
   ]
  }
 ],
 "metadata": {
  "kernelspec": {
   "display_name": "bmir-env",
   "language": "python",
   "name": "python3"
  },
  "language_info": {
   "codemirror_mode": {
    "name": "ipython",
    "version": 3
   },
   "file_extension": ".py",
   "mimetype": "text/x-python",
   "name": "python",
   "nbconvert_exporter": "python",
   "pygments_lexer": "ipython3",
   "version": "3.12.10"
  }
 },
 "nbformat": 4,
 "nbformat_minor": 5
}
