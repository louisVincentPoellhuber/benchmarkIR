{
 "cells": [
  {
   "cell_type": "code",
   "execution_count": 2,
   "metadata": {},
   "outputs": [
    {
     "name": "stderr",
     "output_type": "stream",
     "text": [
      "/home/lvpoellhuber/env/bmir-env/lib/python3.10/site-packages/tqdm/auto.py:21: TqdmWarning: IProgress not found. Please update jupyter and ipywidgets. See https://ipywidgets.readthedocs.io/en/stable/user_install.html\n",
      "  from .autonotebook import tqdm as notebook_tqdm\n"
     ]
    },
    {
     "name": "stdout",
     "output_type": "stream",
     "text": [
      "/home/lvpoellhuber/storage\n"
     ]
    },
    {
     "data": {
      "text/plain": [
       "True"
      ]
     },
     "execution_count": 2,
     "metadata": {},
     "output_type": "execute_result"
    }
   ],
   "source": [
    "from preprocessing import *\n",
    "from model_custom_roberta import *\n",
    "\n",
    "import argparse\n",
    "import pandas as pd\n",
    "import json\n",
    "\n",
    "from transformers import RobertaConfig, get_scheduler\n",
    "from roberta_config import CustomRobertaConfig\n",
    "from accelerate import Accelerator, DistributedDataParallelKwargs\n",
    "from torch.optim import AdamW\n",
    "from datasets import load_dataset, load_metric\n",
    "import copy\n",
    "\n",
    "import dotenv\n",
    "dotenv.load_dotenv()\n"
   ]
  },
  {
   "cell_type": "code",
   "execution_count": 3,
   "metadata": {},
   "outputs": [],
   "source": [
    "roberta_config_dict = {\n",
    "        \"max_position_embeddings\": 514,\n",
    "        \"hidden_size\": 768,\n",
    "        \"num_attention_heads\": 12,\n",
    "        \"num_hidden_layers\": 6,\n",
    "        \"type_vocab_size\": 1,\n",
    "        \"attn_mechanism\": \"eager\",\n",
    "        \"num_labels\": 2\n",
    "    }\n",
    "\n",
    "adaptive_config_dict = {\n",
    "        \"max_position_embeddings\": 514,\n",
    "        \"hidden_size\": 768,\n",
    "        \"num_attention_heads\": 12,\n",
    "        \"num_hidden_layers\": 6,\n",
    "        \"type_vocab_size\": 1,\n",
    "        \"attn_mechanism\": \"adaptive\",\n",
    "        \"num_labels\":4,\n",
    "        \"inner_hidden_size\": 1024,\n",
    "        \"dropout\": 0,\n",
    "        \"attn_span\": 1024,\n",
    "        \"adapt_span_enabled\": True,\n",
    "        \"adapt_span_loss\": 2e-06,\n",
    "        \"adapt_span_ramp\": 32,\n",
    "        \"adapt_span_init\": 0,\n",
    "        \"adapt_span_cache\": True\n",
    "    }\n",
    "\n",
    "sparse_config_dict = {\n",
    "        \"vocab_size\": 32,\n",
    "        \"max_position_embeddings\": 512,\n",
    "        \"hidden_size\": 768,\n",
    "        \"num_attention_heads\": 12,\n",
    "        \"num_hidden_layers\": 6,\n",
    "        \"type_vocab_size\": 1,\n",
    "        \"attn_mechanism\": \"sparse\"\n",
    "    }"
   ]
  },
  {
   "cell_type": "code",
   "execution_count": null,
   "metadata": {},
   "outputs": [],
   "source": [
    "tokenizer = get_tokenizer(\"FacebookAI/roberta-base\")\n",
    "\n",
    "roberta_config = CustomRobertaConfig.from_dict(roberta_config_dict)\n",
    "roberta_config.vocab_size = tokenizer.vocab_size\n",
    "roberta_config.num_labels = 2\n",
    "\n",
    "adaptive_config = CustomRobertaConfig.from_dict(adaptive_config_dict)\n",
    "adaptive_config.vocab_size = tokenizer.vocab_size\n",
    "adaptive_config.num_labels = 2\n",
    "\n",
    "sparse_config = CustomRobertaConfig.from_dict(sparse_config_dict)\n",
    "sparse_config.vocab_size = tokenizer.vocab_size\n",
    "sparse_config.num_labels = 2"
   ]
  },
  {
   "cell_type": "code",
   "execution_count": null,
   "metadata": {},
   "outputs": [
    {
     "name": "stderr",
     "output_type": "stream",
     "text": [
      "Some weights of RobertaForSequenceClassification were not initialized from the model checkpoint at FacebookAI/roberta-base and are newly initialized: ['classifier.dense.bias', 'classifier.dense.weight', 'classifier.out_proj.bias', 'classifier.out_proj.weight']\n",
      "You should probably TRAIN this model on a down-stream task to be able to use it for predictions and inference.\n",
      "Some weights of RobertaForSequenceClassification were not initialized from the model checkpoint at FacebookAI/roberta-base and are newly initialized: ['classifier.dense.bias', 'classifier.dense.weight', 'classifier.out_proj.bias', 'classifier.out_proj.weight', 'roberta.encoder.layer.0.attention.self.seq_attention.adaptive_span._mask.current_val', 'roberta.encoder.layer.0.attention.self.seq_attention.adaptive_span._mask.mask_template', 'roberta.encoder.layer.0.attention.self.seq_attention.mask.current_val', 'roberta.encoder.layer.0.attention.self.seq_attention.mask.mask_template', 'roberta.encoder.layer.1.attention.self.seq_attention.adaptive_span._mask.current_val', 'roberta.encoder.layer.1.attention.self.seq_attention.adaptive_span._mask.mask_template', 'roberta.encoder.layer.1.attention.self.seq_attention.mask.current_val', 'roberta.encoder.layer.1.attention.self.seq_attention.mask.mask_template', 'roberta.encoder.layer.2.attention.self.seq_attention.adaptive_span._mask.current_val', 'roberta.encoder.layer.2.attention.self.seq_attention.adaptive_span._mask.mask_template', 'roberta.encoder.layer.2.attention.self.seq_attention.mask.current_val', 'roberta.encoder.layer.2.attention.self.seq_attention.mask.mask_template', 'roberta.encoder.layer.3.attention.self.seq_attention.adaptive_span._mask.current_val', 'roberta.encoder.layer.3.attention.self.seq_attention.adaptive_span._mask.mask_template', 'roberta.encoder.layer.3.attention.self.seq_attention.mask.current_val', 'roberta.encoder.layer.3.attention.self.seq_attention.mask.mask_template', 'roberta.encoder.layer.4.attention.self.seq_attention.adaptive_span._mask.current_val', 'roberta.encoder.layer.4.attention.self.seq_attention.adaptive_span._mask.mask_template', 'roberta.encoder.layer.4.attention.self.seq_attention.mask.current_val', 'roberta.encoder.layer.4.attention.self.seq_attention.mask.mask_template', 'roberta.encoder.layer.5.attention.self.seq_attention.adaptive_span._mask.current_val', 'roberta.encoder.layer.5.attention.self.seq_attention.adaptive_span._mask.mask_template', 'roberta.encoder.layer.5.attention.self.seq_attention.mask.current_val', 'roberta.encoder.layer.5.attention.self.seq_attention.mask.mask_template']\n",
      "You should probably TRAIN this model on a down-stream task to be able to use it for predictions and inference.\n",
      "Some weights of RobertaForSequenceClassification were not initialized from the model checkpoint at FacebookAI/roberta-base and are newly initialized: ['classifier.dense.bias', 'classifier.dense.weight', 'classifier.out_proj.bias', 'classifier.out_proj.weight', 'roberta.encoder.layer.0.attention.self.alpha', 'roberta.encoder.layer.1.attention.self.alpha', 'roberta.encoder.layer.2.attention.self.alpha', 'roberta.encoder.layer.3.attention.self.alpha', 'roberta.encoder.layer.4.attention.self.alpha', 'roberta.encoder.layer.5.attention.self.alpha']\n",
      "You should probably TRAIN this model on a down-stream task to be able to use it for predictions and inference.\n",
      "Some weights of RobertaForSequenceClassification were not initialized from the model checkpoint at FacebookAI/roberta-base and are newly initialized because the shapes did not match:\n",
      "- roberta.embeddings.position_embeddings.weight: found shape torch.Size([514, 768]) in the checkpoint and torch.Size([512, 768]) in the model instantiated\n",
      "You should probably TRAIN this model on a down-stream task to be able to use it for predictions and inference.\n"
     ]
    }
   ],
   "source": [
    "roberta_model = RobertaForSequenceClassification(config=roberta_config).from_pretrained(\"FacebookAI/roberta-base\", config=roberta_config, ignore_mismatched_sizes=True)\n",
    "adaptive_model = RobertaForSequenceClassification(config=adaptive_config).from_pretrained(\"FacebookAI/roberta-base\", config=adaptive_config, ignore_mismatched_sizes=True)\n",
    "sparse_model = RobertaForSequenceClassification(config=sparse_config).from_pretrained(\"FacebookAI/roberta-base\", config=sparse_config, ignore_mismatched_sizes=True)"
   ]
  },
  {
   "cell_type": "code",
   "execution_count": 13,
   "metadata": {},
   "outputs": [
    {
     "data": {
      "text/plain": [
       "110"
      ]
     },
     "execution_count": 13,
     "metadata": {},
     "output_type": "execute_result"
    }
   ],
   "source": [
    "for i, param in enumerate(roberta_model.named_parameters()):\n",
    "    if not param[1].requires_grad:\n",
    "        print(f\"Parameter {param[0]} does not require gradient. \")\n",
    "\n",
    "for i, param in enumerate(adaptive_model.named_parameters()):\n",
    "    if not param[1].requires_grad:\n",
    "        print(f\"Parameter {param[0]} does not require gradient. \")\n",
    "        \n",
    "for i, param in enumerate(sparse_model.named_parameters()):\n",
    "    if not param[1].requires_grad:\n",
    "        print(f\"Parameter {param[0]} does not require gradient. \")\n",
    "i"
   ]
  },
  {
   "cell_type": "code",
   "execution_count": 32,
   "metadata": {},
   "outputs": [
    {
     "data": {
      "text/plain": [
       "28"
      ]
     },
     "execution_count": 32,
     "metadata": {},
     "output_type": "execute_result"
    }
   ],
   "source": [
    "test = ['classifier.dense.bias', 'classifier.dense.weight', 'classifier.out_proj.bias', 'classifier.out_proj.weight', 'roberta.encoder.layer.0.attention.self.seq_attention.adaptive_span._mask.current_val', 'roberta.encoder.layer.0.attention.self.seq_attention.adaptive_span._mask.mask_template', 'roberta.encoder.layer.0.attention.self.seq_attention.mask.current_val', 'roberta.encoder.layer.0.attention.self.seq_attention.mask.mask_template', 'roberta.encoder.layer.1.attention.self.seq_attention.adaptive_span._mask.current_val', 'roberta.encoder.layer.1.attention.self.seq_attention.adaptive_span._mask.mask_template', 'roberta.encoder.layer.1.attention.self.seq_attention.mask.current_val', 'roberta.encoder.layer.1.attention.self.seq_attention.mask.mask_template', 'roberta.encoder.layer.2.attention.self.seq_attention.adaptive_span._mask.current_val', 'roberta.encoder.layer.2.attention.self.seq_attention.adaptive_span._mask.mask_template', 'roberta.encoder.layer.2.attention.self.seq_attention.mask.current_val', 'roberta.encoder.layer.2.attention.self.seq_attention.mask.mask_template', 'roberta.encoder.layer.3.attention.self.seq_attention.adaptive_span._mask.current_val', 'roberta.encoder.layer.3.attention.self.seq_attention.adaptive_span._mask.mask_template', 'roberta.encoder.layer.3.attention.self.seq_attention.mask.current_val', 'roberta.encoder.layer.3.attention.self.seq_attention.mask.mask_template', 'roberta.encoder.layer.4.attention.self.seq_attention.adaptive_span._mask.current_val', 'roberta.encoder.layer.4.attention.self.seq_attention.adaptive_span._mask.mask_template', 'roberta.encoder.layer.4.attention.self.seq_attention.mask.current_val', 'roberta.encoder.layer.4.attention.self.seq_attention.mask.mask_template', 'roberta.encoder.layer.5.attention.self.seq_attention.adaptive_span._mask.current_val', 'roberta.encoder.layer.5.attention.self.seq_attention.adaptive_span._mask.mask_template', 'roberta.encoder.layer.5.attention.self.seq_attention.mask.current_val', 'roberta.encoder.layer.5.attention.self.seq_attention.mask.mask_template']\n",
    "\n",
    "len(test)"
   ]
  }
 ],
 "metadata": {
  "kernelspec": {
   "display_name": "bmir-env",
   "language": "python",
   "name": "python3"
  },
  "language_info": {
   "codemirror_mode": {
    "name": "ipython",
    "version": 3
   },
   "file_extension": ".py",
   "mimetype": "text/x-python",
   "name": "python",
   "nbconvert_exporter": "python",
   "pygments_lexer": "ipython3",
   "version": "3.10.12"
  }
 },
 "nbformat": 4,
 "nbformat_minor": 2
}
